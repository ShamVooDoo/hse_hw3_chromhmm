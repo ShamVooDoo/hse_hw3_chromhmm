{
  "nbformat": 4,
  "nbformat_minor": 0,
  "metadata": {
    "colab": {
      "provenance": []
    },
    "kernelspec": {
      "name": "python3",
      "display_name": "Python 3"
    },
    "language_info": {
      "name": "python"
    }
  },
  "cells": [
    {
      "cell_type": "markdown",
      "source": [
        "# Устанавливаем java и ChromHmm"
      ],
      "metadata": {
        "id": "vRciyzvPEDLD"
      }
    },
    {
      "cell_type": "code",
      "source": [
        "!curl -O https://raw.githubusercontent.com/deepjavalibrary/d2l-java/master/tools/fix-colab-gpu.sh && bash fix-colab-gpu.sh"
      ],
      "metadata": {
        "colab": {
          "base_uri": "https://localhost:8080/"
        },
        "id": "1O3GJ3Gys7Tm",
        "outputId": "746f8416-3710-4b94-f709-76f2e0c8088e"
      },
      "execution_count": 8,
      "outputs": [
        {
          "output_type": "stream",
          "name": "stdout",
          "text": [
            "  % Total    % Received % Xferd  Average Speed   Time    Time     Time  Current\n",
            "                                 Dload  Upload   Total   Spent    Left  Speed\n",
            "\r  0     0    0     0    0     0      0      0 --:--:-- --:--:-- --:--:--     0\r100   155  100   155    0     0   1201      0 --:--:-- --:--:-- --:--:--  1210\n",
            "ln: failed to create symbolic link '/usr/lib64-nvidia': File exists\n",
            "fix-colab-gpu.sh: line 5: nvcc: command not found\n"
          ]
        }
      ]
    },
    {
      "cell_type": "code",
      "execution_count": 9,
      "metadata": {
        "colab": {
          "base_uri": "https://localhost:8080/"
        },
        "id": "NxS1Mv5WquOV",
        "outputId": "e1812544-f309-4c10-a8b9-29a2d929c395"
      },
      "outputs": [
        {
          "output_type": "stream",
          "name": "stdout",
          "text": [
            "  % Total    % Received % Xferd  Average Speed   Time    Time     Time  Current\n",
            "                                 Dload  Upload   Total   Spent    Left  Speed\n",
            "\r  0     0    0     0    0     0      0      0 --:--:-- --:--:-- --:--:--     0\r100   520  100   520    0     0   3312      0 --:--:-- --:--:-- --:--:--  3312\n",
            "Update environment...\n",
            "Install Java...\n",
            "Install Jupyter java kernel...\n",
            "replace ijava-kernel/java/ijava-1.3.0.jar? [y]es, [n]o, [A]ll, [N]one, [r]ename: y\n",
            "replace ijava-kernel/java/kernel.json? [y]es, [n]o, [A]ll, [N]one, [r]ename: y\n",
            "replace ijava-kernel/java/dependency-licenses/commons-lang3-3.8.1.jar/META-INF/LICENSE.txt? [y]es, [n]o, [A]ll, [N]one, [r]ename: A\n"
          ]
        }
      ],
      "source": [
        "!curl -O https://raw.githubusercontent.com/deepjavalibrary/d2l-java/master/tools/colab_build.sh && bash colab_build.sh"
      ]
    },
    {
      "cell_type": "code",
      "source": [
        "!java --list-modules | grep \"jdk.jshell\"\n"
      ],
      "metadata": {
        "colab": {
          "base_uri": "https://localhost:8080/"
        },
        "id": "_NrPS924rQFX",
        "outputId": "5b07cc87-91c0-4793-8e67-9b453e40c99c"
      },
      "execution_count": 10,
      "outputs": [
        {
          "output_type": "stream",
          "name": "stdout",
          "text": [
            "jdk.jshell@11.0.18\n"
          ]
        }
      ]
    },
    {
      "cell_type": "code",
      "source": [
        "! wget http://compbio.mit.edu/ChromHMM/ChromHMM.zip"
      ],
      "metadata": {
        "colab": {
          "base_uri": "https://localhost:8080/"
        },
        "id": "zCdYYvCJrpRt",
        "outputId": "902cfe0c-dd70-4699-a8f6-4a86704e0a7c"
      },
      "execution_count": 11,
      "outputs": [
        {
          "output_type": "stream",
          "name": "stdout",
          "text": [
            "--2023-04-05 16:37:41--  http://compbio.mit.edu/ChromHMM/ChromHMM.zip\n",
            "Resolving compbio.mit.edu (compbio.mit.edu)... 128.30.2.44\n",
            "Connecting to compbio.mit.edu (compbio.mit.edu)|128.30.2.44|:80... connected.\n",
            "HTTP request sent, awaiting response... 200 OK\n",
            "Length: 48940646 (47M) [application/zip]\n",
            "Saving to: ‘ChromHMM.zip.1’\n",
            "\n",
            "ChromHMM.zip.1      100%[===================>]  46.67M  70.9MB/s    in 0.7s    \n",
            "\n",
            "2023-04-05 16:37:42 (70.9 MB/s) - ‘ChromHMM.zip.1’ saved [48940646/48940646]\n",
            "\n"
          ]
        }
      ]
    },
    {
      "cell_type": "code",
      "source": [
        "!unzip /content/ChromHMM.zip"
      ],
      "metadata": {
        "id": "gF4uI2bvvEN2",
        "colab": {
          "base_uri": "https://localhost:8080/"
        },
        "outputId": "412fc280-0a0e-4118-c5e2-5a152cfdac83"
      },
      "execution_count": 12,
      "outputs": [
        {
          "output_type": "stream",
          "name": "stdout",
          "text": [
            "Archive:  /content/ChromHMM.zip\n",
            "replace ChromHMM/ANCHORFILES/ce10/RefSeqTES.ce10.txt.gz? [y]es, [n]o, [A]ll, [N]one, [r]ename: "
          ]
        }
      ]
    },
    {
      "cell_type": "markdown",
      "source": [
        "## Скачиваем файлы"
      ],
      "metadata": {
        "id": "k80uGrS5quq1"
      }
    },
    {
      "cell_type": "code",
      "source": [
        "!wget http://hgdownload.cse.ucsc.edu/goldenPath/hg19/encodeDCC/wgEncodeBroadHistone/wgEncodeBroadHistoneHelas3ControlStdAlnRep1.bam\t -O Control.bam"
      ],
      "metadata": {
        "id": "PSWbbv8wcFUY",
        "colab": {
          "base_uri": "https://localhost:8080/"
        },
        "outputId": "99363a31-699f-4398-a209-c15e0b7a85cc"
      },
      "execution_count": 13,
      "outputs": [
        {
          "output_type": "stream",
          "name": "stdout",
          "text": [
            "--2023-04-05 16:38:02--  http://hgdownload.cse.ucsc.edu/goldenPath/hg19/encodeDCC/wgEncodeBroadHistone/wgEncodeBroadHistoneHelas3ControlStdAlnRep1.bam\n",
            "Resolving hgdownload.cse.ucsc.edu (hgdownload.cse.ucsc.edu)... 128.114.119.163\n",
            "Connecting to hgdownload.cse.ucsc.edu (hgdownload.cse.ucsc.edu)|128.114.119.163|:80... connected.\n",
            "HTTP request sent, awaiting response... 200 OK\n",
            "Length: 2774533661 (2.6G) [application/octet-stream]\n",
            "Saving to: ‘ControlStdAlnRep1.bam’\n",
            "\n",
            "ControlStdAlnRep1.b 100%[===================>]   2.58G  38.5MB/s    in 70s     \n",
            "\n",
            "2023-04-05 16:39:12 (37.9 MB/s) - ‘ControlStdAlnRep1.bam’ saved [2774533661/2774533661]\n",
            "\n"
          ]
        }
      ]
    },
    {
      "cell_type": "code",
      "source": [
        "!wget http://hgdownload.cse.ucsc.edu/goldenPath/hg19/encodeDCC/wgEncodeBroadHistone/wgEncodeBroadHistoneHelas3H2azAlnRep1.bam -O H2az.bam\n",
        "!wget http://hgdownload.cse.ucsc.edu/goldenPath/hg19/encodeDCC/wgEncodeBroadHistone/wgEncodeBroadHistoneHelas3H3k27acStdAlnRep1.bam -O H3k27ac.bam\n",
        "!wget http://hgdownload.cse.ucsc.edu/goldenPath/hg19/encodeDCC/wgEncodeBroadHistone/wgEncodeBroadHistoneHelas3H3k27me3StdAlnRep1.bam -O H3k27me3.bam\n",
        "!wget http://hgdownload.cse.ucsc.edu/goldenPath/hg19/encodeDCC/wgEncodeBroadHistone/wgEncodeBroadHistoneHelas3H3k36me3StdAlnRep1.bam -O H3k36me3.bam\n",
        "!wget http://hgdownload.cse.ucsc.edu/goldenPath/hg19/encodeDCC/wgEncodeBroadHistone/wgEncodeBroadHistoneHelas3H3k04me1StdAlnRep1.bam -O H3k04me1.bam\n",
        "!wget http://hgdownload.cse.ucsc.edu/goldenPath/hg19/encodeDCC/wgEncodeBroadHistone/wgEncodeBroadHistoneHelas3H3k4me2StdAlnRep1.bam -O H3k4me2.bam\n",
        "!wget http://hgdownload.cse.ucsc.edu/goldenPath/hg19/encodeDCC/wgEncodeBroadHistone/wgEncodeBroadHistoneHelas3H3k4me3StdAlnRep1.bam -O H3k4me3.bam\n",
        "!wget http://hgdownload.cse.ucsc.edu/goldenPath/hg19/encodeDCC/wgEncodeBroadHistone/wgEncodeBroadHistoneHelas3H3k79me2StdAlnRep1.bam -O H3k79me2.bam\n",
        "!wget http://hgdownload.cse.ucsc.edu/goldenPath/hg19/encodeDCC/wgEncodeBroadHistone/wgEncodeBroadHistoneHelas3H3k9acStdAlnRep1.bam -O H3k9ac.bam\n",
        "!wget http://hgdownload.cse.ucsc.edu/goldenPath/hg19/encodeDCC/wgEncodeBroadHistone/wgEncodeBroadHistoneHelas3H3k09me3AlnRep1.bam -O H3k09me3.bam"
      ],
      "metadata": {
        "colab": {
          "base_uri": "https://localhost:8080/"
        },
        "id": "if2NdgkYGMmm",
        "outputId": "978e0fc5-6f21-411a-989d-87d5202808dd"
      },
      "execution_count": 14,
      "outputs": [
        {
          "output_type": "stream",
          "name": "stdout",
          "text": [
            "--2023-04-05 16:39:37--  http://hgdownload.cse.ucsc.edu/goldenPath/hg19/encodeDCC/wgEncodeBroadHistone/wgEncodeBroadHistoneHelas3H2azAlnRep1.bam\n",
            "Resolving hgdownload.cse.ucsc.edu (hgdownload.cse.ucsc.edu)... 128.114.119.163\n",
            "Connecting to hgdownload.cse.ucsc.edu (hgdownload.cse.ucsc.edu)|128.114.119.163|:80... connected.\n",
            "HTTP request sent, awaiting response... 200 OK\n",
            "Length: 1700768109 (1.6G) [application/octet-stream]\n",
            "Saving to: ‘H2az.bam’\n",
            "\n",
            "H2az.bam            100%[===================>]   1.58G  39.2MB/s    in 42s     \n",
            "\n",
            "2023-04-05 16:40:19 (38.7 MB/s) - ‘H2az.bam’ saved [1700768109/1700768109]\n",
            "\n",
            "--2023-04-05 16:40:19--  http://hgdownload.cse.ucsc.edu/goldenPath/hg19/encodeDCC/wgEncodeBroadHistone/wgEncodeBroadHistoneHelas3H3k27acStdAlnRep1.bam\n",
            "Resolving hgdownload.cse.ucsc.edu (hgdownload.cse.ucsc.edu)... 128.114.119.163\n",
            "Connecting to hgdownload.cse.ucsc.edu (hgdownload.cse.ucsc.edu)|128.114.119.163|:80... connected.\n",
            "HTTP request sent, awaiting response... 200 OK\n",
            "Length: 887482725 (846M) [application/octet-stream]\n",
            "Saving to: ‘H3k27ac.bam’\n",
            "\n",
            "H3k27ac.bam         100%[===================>] 846.37M  39.3MB/s    in 22s     \n",
            "\n",
            "2023-04-05 16:40:42 (37.6 MB/s) - ‘H3k27ac.bam’ saved [887482725/887482725]\n",
            "\n",
            "--2023-04-05 16:40:42--  http://hgdownload.cse.ucsc.edu/goldenPath/hg19/encodeDCC/wgEncodeBroadHistone/wgEncodeBroadHistoneHelas3H3k27me3StdAlnRep1.bam\n",
            "Resolving hgdownload.cse.ucsc.edu (hgdownload.cse.ucsc.edu)... 128.114.119.163\n",
            "Connecting to hgdownload.cse.ucsc.edu (hgdownload.cse.ucsc.edu)|128.114.119.163|:80... connected.\n",
            "HTTP request sent, awaiting response... 200 OK\n",
            "Length: 1453564258 (1.4G) [application/octet-stream]\n",
            "Saving to: ‘H3k27me3.bam’\n",
            "\n",
            "H3k27me3.bam        100%[===================>]   1.35G  37.9MB/s    in 36s     \n",
            "\n",
            "2023-04-05 16:41:19 (38.1 MB/s) - ‘H3k27me3.bam’ saved [1453564258/1453564258]\n",
            "\n",
            "--2023-04-05 16:41:19--  http://hgdownload.cse.ucsc.edu/goldenPath/hg19/encodeDCC/wgEncodeBroadHistone/wgEncodeBroadHistoneHelas3H3k36me3StdAlnRep1.bam\n",
            "Resolving hgdownload.cse.ucsc.edu (hgdownload.cse.ucsc.edu)... 128.114.119.163\n",
            "Connecting to hgdownload.cse.ucsc.edu (hgdownload.cse.ucsc.edu)|128.114.119.163|:80... connected.\n",
            "HTTP request sent, awaiting response... 200 OK\n",
            "Length: 1205321119 (1.1G) [application/octet-stream]\n",
            "Saving to: ‘H3k36me3.bam’\n",
            "\n",
            "H3k36me3.bam        100%[===================>]   1.12G  40.1MB/s    in 30s     \n",
            "\n",
            "2023-04-05 16:41:49 (38.7 MB/s) - ‘H3k36me3.bam’ saved [1205321119/1205321119]\n",
            "\n",
            "--2023-04-05 16:41:49--  http://hgdownload.cse.ucsc.edu/goldenPath/hg19/encodeDCC/wgEncodeBroadHistone/wgEncodeBroadHistoneHelas3H3k04me1StdAlnRep1.bam\n",
            "Resolving hgdownload.cse.ucsc.edu (hgdownload.cse.ucsc.edu)... 128.114.119.163\n",
            "Connecting to hgdownload.cse.ucsc.edu (hgdownload.cse.ucsc.edu)|128.114.119.163|:80... connected.\n",
            "HTTP request sent, awaiting response... 200 OK\n",
            "Length: 863088659 (823M) [application/octet-stream]\n",
            "Saving to: ‘H3k04me1.bam’\n",
            "\n",
            "H3k04me1.bam        100%[===================>] 823.11M  37.4MB/s    in 22s     \n",
            "\n",
            "2023-04-05 16:42:12 (37.3 MB/s) - ‘H3k04me1.bam’ saved [863088659/863088659]\n",
            "\n",
            "--2023-04-05 16:42:12--  http://hgdownload.cse.ucsc.edu/goldenPath/hg19/encodeDCC/wgEncodeBroadHistone/wgEncodeBroadHistoneHelas3H3k4me2StdAlnRep1.bam\n",
            "Resolving hgdownload.cse.ucsc.edu (hgdownload.cse.ucsc.edu)... 128.114.119.163\n",
            "Connecting to hgdownload.cse.ucsc.edu (hgdownload.cse.ucsc.edu)|128.114.119.163|:80... connected.\n",
            "HTTP request sent, awaiting response... 200 OK\n",
            "Length: 1376485351 (1.3G) [application/octet-stream]\n",
            "Saving to: ‘H3k4me2.bam’\n",
            "\n",
            "H3k4me2.bam         100%[===================>]   1.28G  40.8MB/s    in 33s     \n",
            "\n",
            "2023-04-05 16:42:46 (39.3 MB/s) - ‘H3k4me2.bam’ saved [1376485351/1376485351]\n",
            "\n",
            "--2023-04-05 16:42:46--  http://hgdownload.cse.ucsc.edu/goldenPath/hg19/encodeDCC/wgEncodeBroadHistone/wgEncodeBroadHistoneHelas3H3k4me3StdAlnRep1.bam\n",
            "Resolving hgdownload.cse.ucsc.edu (hgdownload.cse.ucsc.edu)... 128.114.119.163\n",
            "Connecting to hgdownload.cse.ucsc.edu (hgdownload.cse.ucsc.edu)|128.114.119.163|:80... connected.\n",
            "HTTP request sent, awaiting response... 200 OK\n",
            "Length: 939079175 (896M) [application/octet-stream]\n",
            "Saving to: ‘H3k4me3.bam’\n",
            "\n",
            "H3k4me3.bam         100%[===================>] 895.58M  40.2MB/s    in 23s     \n",
            "\n",
            "2023-04-05 16:43:09 (38.7 MB/s) - ‘H3k4me3.bam’ saved [939079175/939079175]\n",
            "\n",
            "--2023-04-05 16:43:09--  http://hgdownload.cse.ucsc.edu/goldenPath/hg19/encodeDCC/wgEncodeBroadHistone/wgEncodeBroadHistoneHelas3H3k79me2StdAlnRep1.bam\n",
            "Resolving hgdownload.cse.ucsc.edu (hgdownload.cse.ucsc.edu)... 128.114.119.163\n",
            "Connecting to hgdownload.cse.ucsc.edu (hgdownload.cse.ucsc.edu)|128.114.119.163|:80... connected.\n",
            "HTTP request sent, awaiting response... 200 OK\n",
            "Length: 977626403 (932M) [application/octet-stream]\n",
            "Saving to: ‘H3k79me2.bam’\n",
            "\n",
            "H3k79me2.bam        100%[===================>] 932.34M  39.5MB/s    in 24s     \n",
            "\n",
            "2023-04-05 16:43:34 (38.1 MB/s) - ‘H3k79me2.bam’ saved [977626403/977626403]\n",
            "\n",
            "--2023-04-05 16:43:34--  http://hgdownload.cse.ucsc.edu/goldenPath/hg19/encodeDCC/wgEncodeBroadHistone/wgEncodeBroadHistoneHelas3H3k9acStdAlnRep1.bam-O\n",
            "Resolving hgdownload.cse.ucsc.edu (hgdownload.cse.ucsc.edu)... 128.114.119.163\n",
            "Connecting to hgdownload.cse.ucsc.edu (hgdownload.cse.ucsc.edu)|128.114.119.163|:80... connected.\n",
            "HTTP request sent, awaiting response... 404 Not Found\n",
            "2023-04-05 16:43:34 ERROR 404: Not Found.\n",
            "\n",
            "--2023-04-05 16:43:34--  http://h3k9ac.bam/\n",
            "Resolving h3k9ac.bam (h3k9ac.bam)... failed: Name or service not known.\n",
            "wget: unable to resolve host address ‘h3k9ac.bam’\n",
            "--2023-04-05 16:43:35--  http://hgdownload.cse.ucsc.edu/goldenPath/hg19/encodeDCC/wgEncodeBroadHistone/wgEncodeBroadHistoneHelas3H3k09me3AlnRep1.bam\n",
            "Resolving hgdownload.cse.ucsc.edu (hgdownload.cse.ucsc.edu)... 128.114.119.163\n",
            "Connecting to hgdownload.cse.ucsc.edu (hgdownload.cse.ucsc.edu)|128.114.119.163|:80... connected.\n",
            "HTTP request sent, awaiting response... 200 OK\n",
            "Length: 1564985942 (1.5G) [application/octet-stream]\n",
            "Saving to: ‘wgEncodeBroadHistoneHelas3H3k09me3AlnRep1.bam’\n",
            "\n",
            "wgEncodeBroadHiston 100%[===================>]   1.46G  40.7MB/s    in 38s     \n",
            "\n",
            "2023-04-05 16:44:12 (39.6 MB/s) - ‘wgEncodeBroadHistoneHelas3H3k09me3AlnRep1.bam’ saved [1564985942/1564985942]\n",
            "\n",
            "--2023-04-05 16:44:12--  http://h3k09me3.bam/\n",
            "Resolving h3k09me3.bam (h3k09me3.bam)... failed: Name or service not known.\n",
            "wget: unable to resolve host address ‘h3k09me3.bam’\n",
            "FINISHED --2023-04-05 16:44:12--\n",
            "Total wall clock time: 38s\n",
            "Downloaded: 1 files, 1.5G in 38s (39.6 MB/s)\n"
          ]
        }
      ]
    },
    {
      "cell_type": "code",
      "source": [
        "!wget http://hgdownload.cse.ucsc.edu/goldenPath/hg19/encodeDCC/wgEncodeBroadHistone/wgEncodeBroadHistoneHelas3H3k9acStdAlnRep1.bam -O H3k9ac.bam"
      ],
      "metadata": {
        "colab": {
          "base_uri": "https://localhost:8080/"
        },
        "id": "65yceEV6Vs49",
        "outputId": "0ce8e99e-0726-444f-bf51-41646dcccad9"
      },
      "execution_count": 16,
      "outputs": [
        {
          "output_type": "stream",
          "name": "stdout",
          "text": [
            "--2023-04-05 16:53:57--  http://hgdownload.cse.ucsc.edu/goldenPath/hg19/encodeDCC/wgEncodeBroadHistone/wgEncodeBroadHistoneHelas3H3k9acStdAlnRep1.bam\n",
            "Resolving hgdownload.cse.ucsc.edu (hgdownload.cse.ucsc.edu)... 128.114.119.163\n",
            "Connecting to hgdownload.cse.ucsc.edu (hgdownload.cse.ucsc.edu)|128.114.119.163|:80... connected.\n",
            "HTTP request sent, awaiting response... 200 OK\n",
            "Length: 1005300783 (959M) [application/octet-stream]\n",
            "Saving to: ‘H3k9ac.bam’\n",
            "\n",
            "H3k9ac.bam          100%[===================>] 958.73M  37.9MB/s    in 27s     \n",
            "\n",
            "2023-04-05 16:54:25 (35.1 MB/s) - ‘H3k9ac.bam’ saved [1005300783/1005300783]\n",
            "\n"
          ]
        }
      ]
    },
    {
      "cell_type": "markdown",
      "source": [
        "* Вручную создаем текстовый файл cellmarkfiletable.txt, в котором указываем название типа клеток, разных гистоновых меток, а также соответствующие .bam файлы для эксперимента и контроля. Один и тот же контрольный файл .bam может быть использован для всех экспериментов.\n",
        "\n",
        "* Более подробно о содержании файла cellmarkfiletable.txt можно посмотреть в руководстве пользователя ChromHMM\n",
        "\n",
        "* Файл cellmarkfiletable.txt добавляем в github репозиторий для отчета"
      ],
      "metadata": {
        "id": "asjMJ26h79SY"
      }
    },
    {
      "cell_type": "markdown",
      "source": [
        "Запускаем ChromHMM с опцией BinarizeBam, чтобы конвертировать профили из ChIP-seq экспериментов (bam-файлы) в табличку из 0 и 1, т.е. чтобы сделать разбивку генома на условные интервалы (бины) длиной 200 п.о.\n",
        "Для 11 меток программа работает около 5 мин\n"
      ],
      "metadata": {
        "id": "WeoRL3rp728b"
      }
    },
    {
      "cell_type": "code",
      "source": [
        "!java -mx5000M -jar /content/ChromHMM/ChromHMM.jar BinarizeBam -b 200  /content/ChromHMM/CHROMSIZES/hg19.txt /content/ cellmarkfiletable.txt   binarizedData\n"
      ],
      "metadata": {
        "colab": {
          "base_uri": "https://localhost:8080/"
        },
        "id": "GcVBvuQZfzb8",
        "outputId": "e2965299-d628-4e4f-b2d6-a605e5b9a6fc"
      },
      "execution_count": 18,
      "outputs": [
        {
          "output_type": "stream",
          "name": "stdout",
          "text": [
            "Writing to file binarizedData/Helas3_chr1_binary.txt\n",
            "Writing to file binarizedData/Helas3_chr2_binary.txt\n",
            "Writing to file binarizedData/Helas3_chr3_binary.txt\n",
            "Writing to file binarizedData/Helas3_chr4_binary.txt\n",
            "Writing to file binarizedData/Helas3_chr5_binary.txt\n",
            "Writing to file binarizedData/Helas3_chr6_binary.txt\n",
            "Writing to file binarizedData/Helas3_chr7_binary.txt\n",
            "Writing to file binarizedData/Helas3_chrX_binary.txt\n",
            "Writing to file binarizedData/Helas3_chr8_binary.txt\n",
            "Writing to file binarizedData/Helas3_chr9_binary.txt\n",
            "Writing to file binarizedData/Helas3_chr10_binary.txt\n",
            "Writing to file binarizedData/Helas3_chr11_binary.txt\n",
            "Writing to file binarizedData/Helas3_chr12_binary.txt\n",
            "Writing to file binarizedData/Helas3_chr13_binary.txt\n",
            "Writing to file binarizedData/Helas3_chr14_binary.txt\n",
            "Writing to file binarizedData/Helas3_chr15_binary.txt\n",
            "Writing to file binarizedData/Helas3_chr16_binary.txt\n",
            "Writing to file binarizedData/Helas3_chr17_binary.txt\n",
            "Writing to file binarizedData/Helas3_chr18_binary.txt\n",
            "Writing to file binarizedData/Helas3_chr20_binary.txt\n",
            "Writing to file binarizedData/Helas3_chr19_binary.txt\n",
            "Writing to file binarizedData/Helas3_chr22_binary.txt\n",
            "Writing to file binarizedData/Helas3_chr21_binary.txt\n",
            "Writing to file binarizedData/Helas3_chrM_binary.txt\n"
          ]
        }
      ]
    },
    {
      "cell_type": "markdown",
      "source": [
        "Запускаем ChromHMM с опцией LearnModel (см. руководство пользователя), которая автоматически определит параметры N разных эпигенетических типов с наиболее выраженными наборами гистоновых меток и присвоит каждому геномному интервалу определенный эпигенетический тип. Количество разных эпигенетических типов (или состояний) выбираете сами (например 10 штук).\n",
        "Не забудьте, что мы работаем с версией референсного генома человека hg19\n",
        "Для 11 меток программа работает около 10 минут\n"
      ],
      "metadata": {
        "id": "Yo11TtNG8SXU"
      }
    },
    {
      "cell_type": "code",
      "source": [
        "!java -mx5000M -jar /content/ChromHMM/ChromHMM.jar LearnModel -b 200  /content/binarizedData/ /content/data 15 hg19"
      ],
      "metadata": {
        "colab": {
          "base_uri": "https://localhost:8080/"
        },
        "id": "Wqz6VESFM3XR",
        "outputId": "7d308298-e3f9-4374-c50d-f285613cb694"
      },
      "execution_count": 19,
      "outputs": [
        {
          "output_type": "stream",
          "name": "stdout",
          "text": [
            "       162              -7498979.622      0.065               3778.9\n",
            "       163              -7498979.563      0.059               3801.3\n",
            "       164              -7498979.508      0.055               3824.9\n",
            "       165              -7498979.458      0.051               3848.5\n",
            "       166              -7498979.411      0.046               3872.1\n",
            "       167              -7498979.369      0.043               3895.7\n",
            "       168              -7498979.329      0.039               3918.1\n",
            "       169              -7498979.293      0.036               3941.7\n",
            "       170              -7498979.260      0.033               3965.3\n",
            "       171              -7498979.229      0.031               3988.9\n",
            "       172              -7498979.201      0.028               4012.5\n",
            "       173              -7498979.175      0.026               4035.4\n",
            "       174              -7498979.151      0.024               4058.7\n",
            "       175              -7498979.130      0.022               4083.0\n",
            "       176              -7498979.110      0.020               4107.0\n",
            "       177              -7498979.091      0.019               4130.5\n",
            "       178              -7498979.074      0.017               4154.1\n",
            "       179              -7498979.058      0.016               4176.4\n",
            "       180              -7498979.044      0.014               4200.3\n",
            "       181              -7498979.031      0.013               4223.8\n",
            "       182              -7498979.019      0.012               4247.5\n",
            "       183              -7498979.008      0.011               4271.0\n",
            "       184              -7498978.998      0.010               4293.6\n",
            "       185              -7498978.988      0.009               4316.8\n",
            "       186              -7498978.980      0.009               4340.7\n",
            "       187              -7498978.972      0.008               4367.4\n",
            "       188              -7498978.965      0.007               4391.1\n",
            "       189              -7498978.958      0.006               4414.6\n",
            "       190              -7498978.952      0.006               4436.9\n",
            "       191              -7498978.947      0.006               4460.5\n",
            "       192              -7498978.941      0.005               4484.1\n",
            "       193              -7498978.937      0.005               4507.6\n",
            "       194              -7498978.933      0.004               4531.4\n",
            "       195              -7498978.929      0.004               4554.4\n",
            "       196              -7498978.925      0.004               4577.1\n",
            "       197              -7498978.922      0.003               4600.8\n",
            "       198              -7498978.919      0.003               4624.4\n",
            "       199              -7498978.916      0.003               4647.9\n",
            "       200              -7498978.914      0.002               4671.1\n",
            "Writing to file /content/data/Helas3_15_segments.bed\n",
            "Writing to file /content/data/Helas3_15_dense.bed\n",
            "Writing to file /content/data/Helas3_15_expanded.bed\n",
            "Writing to file /content/data/Helas3_15_overlap.txt\n",
            "Writing to file /content/data/Helas3_15_overlap.png\n",
            "Writing to file /content/data/Helas3_15_overlap.svg\n",
            "Writing to file /content/data/Helas3_15_RefSeqTSS_neighborhood.txt\n",
            "Writing to file /content/data/Helas3_15_RefSeqTSS_neighborhood.png\n",
            "Writing to file /content/data/Helas3_15_RefSeqTSS_neighborhood.svg\n",
            "Writing to file /content/data/Helas3_15_RefSeqTES_neighborhood.txt\n",
            "Writing to file /content/data/Helas3_15_RefSeqTES_neighborhood.png\n",
            "Writing to file /content/data/Helas3_15_RefSeqTES_neighborhood.svg\n",
            "Warning could not automatically open in a browser /content/data/webpage_15.html\n"
          ]
        }
      ]
    },
    {
      "cell_type": "markdown",
      "source": [
        "В результате выполнения команды LearnModel будет создан набор файлов (в том числе HTML страничка) в папке выдачи, которая была указана при запуске. Скачиваем эту папку себе на копьютер и открываем HTML файл.\n",
        "\n",
        "Дальнейшие инстркции -- см. в описании ДЗ"
      ],
      "metadata": {
        "id": "7yuCmmw-gsFC"
      }
    }
  ]
}